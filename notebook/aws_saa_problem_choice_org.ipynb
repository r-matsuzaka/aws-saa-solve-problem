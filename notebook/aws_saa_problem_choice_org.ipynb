{
  "nbformat": 4,
  "nbformat_minor": 0,
  "metadata": {
    "colab": {
      "name": "aws-saa-problem-choice-org.ipynb",
      "provenance": [],
      "authorship_tag": "ABX9TyO4kcCW2HHKPKFcyEyA58Lf",
      "include_colab_link": true
    },
    "kernelspec": {
      "name": "python3",
      "display_name": "Python 3"
    },
    "language_info": {
      "name": "python"
    }
  },
  "cells": [
    {
      "cell_type": "markdown",
      "metadata": {
        "id": "view-in-github",
        "colab_type": "text"
      },
      "source": [
        "<a href=\"https://colab.research.google.com/github/r-matsuzaka/aws-saa-solve-problem/blob/main/notebook/aws_saa_problem_choice_org.ipynb\" target=\"_parent\"><img src=\"https://colab.research.google.com/assets/colab-badge.svg\" alt=\"Open In Colab\"/></a>"
      ]
    },
    {
      "cell_type": "code",
      "execution_count": 1,
      "metadata": {
        "id": "TyhLw8OdR56B"
      },
      "outputs": [],
      "source": [
        "import os\n",
        "import pathlib\n",
        "import random\n",
        "import matplotlib.pyplot as plt\n",
        "import pandas as pd\n",
        "\n",
        "\n",
        "random.seed(42)\n",
        "\n",
        "n_batch = 2\n",
        "n_section = 3#number of problem\n",
        "n_skip = 0#skip batch2\n",
        "title = \"test-attempt\""
      ]
    },
    {
      "cell_type": "code",
      "source": [
        "from google.colab import drive\n",
        "\n",
        "google_drive_path = '/content/drive'\n",
        "drive.mount(google_drive_path)"
      ],
      "metadata": {
        "id": "EkrjCyMkpgXJ",
        "outputId": "bc1c65b0-39ef-4d34-fec5-d04030f5a87c",
        "colab": {
          "base_uri": "https://localhost:8080/"
        }
      },
      "execution_count": 2,
      "outputs": [
        {
          "output_type": "stream",
          "name": "stdout",
          "text": [
            "Drive already mounted at /content/drive; to attempt to forcibly remount, call drive.mount(\"/content/drive\", force_remount=True).\n"
          ]
        }
      ]
    },
    {
      "cell_type": "code",
      "source": [
        "sections = list(range(1,7))\n",
        "problems = list(range(1,66))\n",
        "all = []\n",
        "\n",
        "for v1 in sections:\n",
        "    for v2 in problems:\n",
        "        all.append(str(v1) + \"-\" + str(v2))"
      ],
      "metadata": {
        "id": "PflBbor3SMm5"
      },
      "execution_count": 3,
      "outputs": []
    },
    {
      "cell_type": "code",
      "source": [
        "def answer_problem(n, skip):\n",
        "  \"\"\"\n",
        "  Args:\n",
        "    n(int): number of question\n",
        "    skip(bool)\n",
        "  \"\"\"\n",
        "  correct_cnt = 0\n",
        "\n",
        "  for i in range(1, n+1):\n",
        "    chosen_problem = random.sample(all,1)[0]\n",
        "    print(f\"Question{i} is {chosen_problem}\")\n",
        "\n",
        "    if skip:\n",
        "      print(\"skipped\")\n",
        "    \n",
        "    else:\n",
        "      your_ans = int(input())\n",
        "      ans = int(input())\n",
        "      output_res(chosen_problem, your_ans, ans)\n",
        "      if your_ans == ans:\n",
        "        #print(\"correct\")\n",
        "        correct_cnt += 1\n",
        "      #else: \n",
        "        #print(\"wrong\")\n",
        "  \n",
        "  correct_percent = int(100 * correct_cnt / n)\n",
        "\n",
        "  print(correct_percent)\n",
        "\n",
        "  return correct_percent"
      ],
      "metadata": {
        "id": "1dbENzDSUbr_"
      },
      "execution_count": 4,
      "outputs": []
    },
    {
      "cell_type": "code",
      "source": [
        "def output_res(chosen_problem, your_ans, ans):\n",
        "  dir_path = f'{google_drive_path}/MyDrive/aws_saa_practice/res'\n",
        "  res_path = pathlib.Path(dir_path)\n",
        "  csv_path = pathlib.Path(f'{dir_path}/{title}.csv')\n",
        "\n",
        "  if not res_path.exists():\n",
        "    res_path.mkdir(parents=True)\n",
        "\n",
        "  if csv_path.exists():\n",
        "    res_df = pd.read_csv(csv_path, index_col=0)\n",
        "    \n",
        "  else:\n",
        "    res_df = pd.DataFrame(columns=[\"your_ans\", \"ans\"])\n",
        "\n",
        "  res_df.loc[chosen_problem] = [your_ans, ans]\n",
        "  res_df.to_csv(csv_path, index = True)"
      ],
      "metadata": {
        "id": "N_wYO9qxJwZy"
      },
      "execution_count": 5,
      "outputs": []
    },
    {
      "cell_type": "code",
      "source": [
        "def plot_score(correct_percents:list):\n",
        "  n = len(correct_percents)\n",
        "  plt.bar(list(range(1, n+1)),correct_percents)\n"
      ],
      "metadata": {
        "id": "TWHdSPiQXfi1"
      },
      "execution_count": 6,
      "outputs": []
    },
    {
      "cell_type": "code",
      "source": [
        "def average(lst):\n",
        "  ave = sum(lst) / len(lst)\n",
        "  print(f\"average score is {ave}\")"
      ],
      "metadata": {
        "id": "naPlytB8cZLe"
      },
      "execution_count": 7,
      "outputs": []
    },
    {
      "cell_type": "code",
      "source": [
        "from numpy import e\n",
        "correct_percents = []\n",
        "\n",
        "for i in range(1, n_batch + 1):\n",
        "  print(f\"Batch {i}\")\n",
        "\n",
        "  if i <= n_skip:\n",
        "    skip = True\n",
        "\n",
        "  else:\n",
        "    skip = False\n",
        "    \n",
        "  correct_percent = answer_problem(n_section, skip)\n",
        "  correct_percents.append(correct_percent)\n",
        "\n",
        "plot_score(correct_percents)\n",
        "\n",
        "average(correct_percents)"
      ],
      "metadata": {
        "colab": {
          "base_uri": "https://localhost:8080/",
          "height": 664
        },
        "id": "bSDywcmpU7RW",
        "outputId": "73080557-e80f-46f7-e90b-ca90eb831def"
      },
      "execution_count": 8,
      "outputs": [
        {
          "output_type": "stream",
          "name": "stdout",
          "text": [
            "Batch 1\n",
            "Question1 is 6-3\n",
            "1\n",
            "1\n",
            "Question2 is 1-58\n",
            "2\n",
            "2\n",
            "Question3 is 1-13\n",
            "3\n",
            "3\n",
            "100\n",
            "Batch 2\n",
            "Question1 is 6-55\n",
            "4\n",
            "4\n",
            "Question2 is 3-11\n",
            "5\n",
            "5\n",
            "Question3 is 2-61\n",
            "6\n",
            "6\n",
            "100\n",
            "average score is 100.0\n"
          ]
        },
        {
          "output_type": "display_data",
          "data": {
            "text/plain": [
              "<Figure size 432x288 with 1 Axes>"
            ],
            "image/png": "[encoded data removed]"
          },
          "metadata": {
            "needs_background": "light"
          }
        }
      ]
    }
  ]
}