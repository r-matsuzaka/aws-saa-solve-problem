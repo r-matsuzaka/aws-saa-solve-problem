{
  "nbformat": 4,
  "nbformat_minor": 0,
  "metadata": {
    "colab": {
      "name": "aws-saa-problem-choice-org.ipynb",
      "provenance": [],
      "authorship_tag": "ABX9TyN4ggAezAru1TMid5P1OpET",
      "include_colab_link": true
    },
    "kernelspec": {
      "name": "python3",
      "display_name": "Python 3"
    },
    "language_info": {
      "name": "python"
    }
  },
  "cells": [
    {
      "cell_type": "markdown",
      "metadata": {
        "id": "view-in-github",
        "colab_type": "text"
      },
      "source": [
        "<a href=\"https://colab.research.google.com/github/r-matsuzaka/aws-saa-solve-problem/blob/main/notebook/aws_saa_problem_choice_org.ipynb\" target=\"_parent\"><img src=\"https://colab.research.google.com/assets/colab-badge.svg\" alt=\"Open In Colab\"/></a>"
      ]
    },
    {
      "cell_type": "code",
      "execution_count": 1,
      "metadata": {
        "id": "TyhLw8OdR56B"
      },
      "outputs": [],
      "source": [
        "import os\n",
        "import pathlib\n",
        "import random\n",
        "import matplotlib.pyplot as plt\n",
        "import matplotlib.ticker as ticker\n",
        "import pandas as pd\n",
        "\n",
        "\n",
        "random.seed(4)\n",
        "\n",
        "n_batch = 10\n",
        "n_section = 10#number of problem per batch\n",
        "n_skip = 0#number of batch to skip\n",
        "title = \"test\""
      ]
    },
    {
      "cell_type": "code",
      "source": [
        "from google.colab import drive\n",
        "\n",
        "google_drive_path = '/content/drive'\n",
        "drive.mount(google_drive_path)"
      ],
      "metadata": {
        "colab": {
          "base_uri": "https://localhost:8080/"
        },
        "id": "EkrjCyMkpgXJ",
        "outputId": "ec95fb13-be35-4e3b-887a-add90528bbf0"
      },
      "execution_count": 2,
      "outputs": [
        {
          "output_type": "stream",
          "name": "stdout",
          "text": [
            "Drive already mounted at /content/drive; to attempt to forcibly remount, call drive.mount(\"/content/drive\", force_remount=True).\n"
          ]
        }
      ]
    },
    {
      "cell_type": "code",
      "source": [
        "sections = list(range(1,7))\n",
        "problems = list(range(1,66))\n",
        "all = []\n",
        "\n",
        "for v1 in sections:\n",
        "    for v2 in problems:\n",
        "        all.append(str(v1) + \"-\" + str(v2))"
      ],
      "metadata": {
        "id": "PflBbor3SMm5"
      },
      "execution_count": 3,
      "outputs": []
    },
    {
      "cell_type": "code",
      "source": [
        "dir_path = f'{google_drive_path}/MyDrive/aws_saa_practice/res'\n",
        "res_path = pathlib.Path(dir_path)\n",
        "csv_path = pathlib.Path(f'{dir_path}/{title}.csv')\n",
        "\n",
        "def output_res(chosen_problem, your_ans, ans):\n",
        "  if not res_path.exists():\n",
        "    res_path.mkdir(parents=True)\n",
        "\n",
        "  if csv_path.exists():\n",
        "    res_df = pd.read_csv(csv_path, index_col=0)\n",
        "    \n",
        "  else:\n",
        "    res_df = pd.DataFrame(columns=[\"your_ans\", \"ans\"])\n",
        "\n",
        "  if chosen_problem in res_df.index:\n",
        "    print(\"filled\")\n",
        "\n",
        "  res_df.loc[chosen_problem] = [your_ans, ans]\n",
        "  res_df.to_csv(csv_path, index = True)"
      ],
      "metadata": {
        "id": "NJFP6sHwzpqM"
      },
      "execution_count": 4,
      "outputs": []
    },
    {
      "cell_type": "code",
      "source": [
        "def answer_problem(shuffled_questions, i_batch, skip):\n",
        "  \"\"\"\n",
        "  Args:\n",
        "    shuffled_questions\n",
        "    i_batch(int): number of ith batch\n",
        "    skip(bool)\n",
        "  \"\"\"\n",
        "  correct_cnt = 0\n",
        "\n",
        "  for i in range(n_section):\n",
        "    chosen_problem = shuffled_questions[n_section * i_batch + i]\n",
        "    print(f\"Question{i} is {chosen_problem}\")\n",
        "\n",
        "    if skip:\n",
        "      print(\"skipped\")\n",
        "\n",
        "    elif not skip:\n",
        "      if csv_path.exists():\n",
        "        res_df = pd.read_csv(csv_path, index_col=0)\n",
        "\n",
        "        if chosen_problem in res_df.index:\n",
        "          res_df = pd.read_csv(csv_path, index_col=0)\n",
        "          print(\"filled\")\n",
        "          your_ans = res_df[\"your_ans\"][chosen_problem]\n",
        "          ans = res_df[\"ans\"][chosen_problem]\n",
        "\n",
        "        else:\n",
        "          your_ans = 1#int(input())\n",
        "          ans = 1#int(input())\n",
        "          output_res(chosen_problem, your_ans, ans)\n",
        "\n",
        "      else:\n",
        "        your_ans = 1#int(input())\n",
        "        ans = 1#int(input())\n",
        "        output_res(chosen_problem, your_ans, ans)\n",
        "\n",
        "    \n",
        "      if your_ans == ans:\n",
        "      #print(\"correct\")\n",
        "        correct_cnt += 1\n",
        "      #else: \n",
        "      #print(\"wrong\")\n",
        "  \n",
        "  if not skip:\n",
        "    correct_percent = int(100 * correct_cnt / n_section)\n",
        "\n",
        "    print(f\"score is {correct_percent}\")\n",
        "\n",
        "    return correct_percent"
      ],
      "metadata": {
        "id": "1dbENzDSUbr_"
      },
      "execution_count": 5,
      "outputs": []
    },
    {
      "cell_type": "code",
      "source": [
        "def plot_score(correct_percents:list):\n",
        "  plt.gca().get_xaxis().set_major_locator(ticker.MaxNLocator(integer=True))\n",
        "  n = len(correct_percents)\n",
        "  plt.title(f\"{title}\")\n",
        "  plt.plot(list(range(1, n+1)),correct_percents,color=\"r\")\n",
        "  plt.xlabel(\"number of batch\")\n",
        "  plt.ylabel(\"score [%]\")\n",
        "  plt.ylim(0,110)\n",
        "  plt.grid()\n"
      ],
      "metadata": {
        "id": "TWHdSPiQXfi1"
      },
      "execution_count": 6,
      "outputs": []
    },
    {
      "cell_type": "code",
      "source": [
        "def average(lst):\n",
        "  ave = sum(lst) / len(lst)\n",
        "  print(f\"average score is {ave}\")"
      ],
      "metadata": {
        "id": "naPlytB8cZLe"
      },
      "execution_count": 7,
      "outputs": []
    },
    {
      "cell_type": "code",
      "source": [
        "correct_percents = []\n",
        "shuffled_questions = random.sample(all,len(all))\n",
        "\n",
        "for i_batch in range(1, n_batch + 1):\n",
        "  print(\"\\n\")\n",
        "  print(f\"Batch {i_batch}\")\n",
        "  print(\"------------------------------\")\n",
        "\n",
        "  skip = False\n",
        "\n",
        "  if i_batch <= n_skip:\n",
        "    skip = True\n",
        "    \n",
        "  correct_percent = answer_problem(shuffled_questions, i_batch, skip)\n",
        "  correct_percents.append(correct_percent)\n",
        "\n",
        "correct_percents_wo_none = [x for x in correct_percents if x]\n",
        "plot_score(correct_percents_wo_none)\n",
        "\n",
        "average(correct_percents_wo_none)"
      ],
      "metadata": {
        "colab": {
          "base_uri": "https://localhost:8080/",
          "height": 1000
        },
        "id": "bSDywcmpU7RW",
        "outputId": "230b39f1-693c-422d-c4df-a248bbbf5b82"
      },
      "execution_count": 8,
      "outputs": [
        {
          "output_type": "stream",
          "name": "stdout",
          "text": [
            "\n",
            "\n",
            "Batch 1\n",
            "------------------------------\n",
            "Question0 is 4-11\n",
            "Question1 is 5-22\n",
            "Question2 is 3-19\n",
            "Question3 is 1-31\n",
            "Question4 is 2-49\n",
            "Question5 is 5-7\n",
            "Question6 is 5-15\n",
            "Question7 is 3-55\n",
            "Question8 is 3-12\n",
            "Question9 is 2-24\n",
            "score is 100\n",
            "\n",
            "\n",
            "Batch 2\n",
            "------------------------------\n",
            "Question0 is 1-55\n",
            "Question1 is 3-5\n",
            "Question2 is 2-45\n",
            "Question3 is 1-14\n",
            "Question4 is 6-4\n",
            "Question5 is 3-4\n",
            "Question6 is 3-10\n",
            "Question7 is 2-35\n",
            "Question8 is 2-20\n",
            "Question9 is 3-29\n",
            "score is 100\n",
            "\n",
            "\n",
            "Batch 3\n",
            "------------------------------\n",
            "Question0 is 6-53\n",
            "Question1 is 5-62\n",
            "Question2 is 3-61\n",
            "Question3 is 1-45\n",
            "Question4 is 5-51\n",
            "Question5 is 3-43\n",
            "Question6 is 6-19\n",
            "Question7 is 4-4\n",
            "Question8 is 4-65\n",
            "Question9 is 2-63\n",
            "score is 100\n",
            "\n",
            "\n",
            "Batch 4\n",
            "------------------------------\n",
            "Question0 is 2-27\n",
            "Question1 is 2-62\n",
            "Question2 is 4-48\n",
            "Question3 is 3-14\n",
            "Question4 is 1-46\n",
            "Question5 is 5-21\n",
            "Question6 is 3-24\n",
            "Question7 is 1-4\n",
            "Question8 is 3-20\n",
            "Question9 is 5-34\n",
            "score is 100\n",
            "\n",
            "\n",
            "Batch 5\n",
            "------------------------------\n",
            "Question0 is 3-30\n",
            "Question1 is 5-1\n",
            "Question2 is 6-38\n",
            "Question3 is 4-17\n",
            "Question4 is 4-22\n",
            "Question5 is 5-47\n",
            "Question6 is 3-18\n",
            "Question7 is 4-26\n",
            "Question8 is 4-37\n",
            "Question9 is 2-18\n",
            "score is 100\n",
            "\n",
            "\n",
            "Batch 6\n",
            "------------------------------\n",
            "Question0 is 2-55\n",
            "Question1 is 3-27\n",
            "Question2 is 3-3\n",
            "Question3 is 1-23\n",
            "Question4 is 1-42\n",
            "Question5 is 1-24\n",
            "Question6 is 4-42\n",
            "Question7 is 5-61\n",
            "Question8 is 6-22\n",
            "Question9 is 5-6\n",
            "score is 100\n",
            "\n",
            "\n",
            "Batch 7\n",
            "------------------------------\n",
            "Question0 is 5-14\n",
            "Question1 is 4-47\n",
            "Question2 is 3-46\n",
            "Question3 is 2-10\n",
            "Question4 is 2-36\n",
            "Question5 is 6-57\n",
            "Question6 is 6-12\n",
            "Question7 is 2-39\n",
            "Question8 is 4-31\n",
            "Question9 is 6-47\n",
            "score is 100\n",
            "\n",
            "\n",
            "Batch 8\n",
            "------------------------------\n",
            "Question0 is 2-30\n",
            "Question1 is 3-53\n",
            "Question2 is 4-29\n",
            "Question3 is 5-42\n",
            "Question4 is 3-35\n",
            "Question5 is 5-26\n",
            "Question6 is 2-37\n",
            "Question7 is 3-36\n",
            "Question8 is 1-52\n",
            "Question9 is 1-32\n",
            "score is 100\n",
            "\n",
            "\n",
            "Batch 9\n",
            "------------------------------\n",
            "Question0 is 2-53\n",
            "Question1 is 3-13\n",
            "Question2 is 2-57\n",
            "Question3 is 1-63\n",
            "Question4 is 3-40\n",
            "Question5 is 2-26\n",
            "Question6 is 6-35\n",
            "Question7 is 4-41\n",
            "Question8 is 6-42\n",
            "Question9 is 1-22\n",
            "score is 100\n",
            "\n",
            "\n",
            "Batch 10\n",
            "------------------------------\n",
            "Question0 is 5-49\n",
            "Question1 is 1-43\n",
            "Question2 is 3-17\n",
            "Question3 is 3-38\n",
            "Question4 is 1-10\n",
            "Question5 is 5-43\n",
            "Question6 is 6-9\n",
            "Question7 is 5-46\n",
            "Question8 is 2-14\n",
            "Question9 is 4-16\n",
            "score is 100\n",
            "average score is 100.0\n"
          ]
        },
        {
          "output_type": "display_data",
          "data": {
            "text/plain": [
              "<Figure size 432x288 with 1 Axes>"
            ],
            "image/png": "[encoded data removed]"
          },
          "metadata": {
            "needs_background": "light"
          }
        }
      ]
    }
  ]
}