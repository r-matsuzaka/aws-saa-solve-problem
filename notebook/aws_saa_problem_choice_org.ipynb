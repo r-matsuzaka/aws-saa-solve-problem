{
  "nbformat": 4,
  "nbformat_minor": 0,
  "metadata": {
    "colab": {
      "name": "aws-saa-problem-choice-org.ipynb",
      "provenance": [],
      "authorship_tag": "ABX9TyMLHcupWrgmTVuTozNi1aK4",
      "include_colab_link": true
    },
    "kernelspec": {
      "name": "python3",
      "display_name": "Python 3"
    },
    "language_info": {
      "name": "python"
    }
  },
  "cells": [
    {
      "cell_type": "markdown",
      "metadata": {
        "id": "view-in-github",
        "colab_type": "text"
      },
      "source": [
        "<a href=\"https://colab.research.google.com/github/r-matsuzaka/aws-saa-solve-problem/blob/main/notebook/aws_saa_problem_choice_org.ipynb\" target=\"_parent\"><img src=\"https://colab.research.google.com/assets/colab-badge.svg\" alt=\"Open In Colab\"/></a>"
      ]
    },
    {
      "cell_type": "code",
      "execution_count": 1,
      "metadata": {
        "id": "TyhLw8OdR56B"
      },
      "outputs": [],
      "source": [
        "import random\n",
        "from getpass import getpass\n",
        "import matplotlib.pyplot as plt\n",
        "\n",
        "random.seed(2)\n",
        "\n",
        "n_batch = 5\n",
        "n_section = 3"
      ]
    },
    {
      "cell_type": "code",
      "source": [
        "sections = list(range(1,7))\n",
        "problems = list(range(1,66))\n",
        "all = []\n",
        "\n",
        "for v1 in sections:\n",
        "    for v2 in problems:\n",
        "        all.append(str(v1) + \"-\" + str(v2))"
      ],
      "metadata": {
        "id": "PflBbor3SMm5"
      },
      "execution_count": 2,
      "outputs": []
    },
    {
      "cell_type": "code",
      "source": [
        "def answer_problem(n:int=10):\n",
        "  \"\"\"\n",
        "  Args:\n",
        "    n(int): number of question\n",
        "\n",
        "  \"\"\"\n",
        "  correct_cnt = 0\n",
        "\n",
        "  for i in range(1, n+1):\n",
        "    chosen_problem = random.sample(all,1)[0]\n",
        "    print(f\"Question{i} is {chosen_problem}\")\n",
        "    your_ans = input()\n",
        "    ans = input()\n",
        "    if your_ans == ans:\n",
        "      #print(\"correct\")\n",
        "      correct_cnt += 1\n",
        "    #else: \n",
        "      #print(\"wrong\")\n",
        "  \n",
        "  correct_percent = int(100 * correct_cnt / n)\n",
        "\n",
        "  print(correct_percent)\n",
        "\n",
        "  return correct_percent"
      ],
      "metadata": {
        "id": "1dbENzDSUbr_"
      },
      "execution_count": 3,
      "outputs": []
    },
    {
      "cell_type": "code",
      "source": [
        "def plot_score(correct_percents:list):\n",
        "  n = len(correct_percents)\n",
        "  plt.bar(list(range(1, n+1)),correct_percents)\n"
      ],
      "metadata": {
        "id": "TWHdSPiQXfi1"
      },
      "execution_count": 4,
      "outputs": []
    },
    {
      "cell_type": "code",
      "source": [
        "def average(lst):\n",
        "    return sum(lst) / len(lst)"
      ],
      "metadata": {
        "colab": {
          "base_uri": "https://localhost:8080/"
        },
        "id": "naPlytB8cZLe",
        "outputId": "da1c3502-aea4-429a-c222-4a07c2fad7c6"
      },
      "execution_count": 7,
      "outputs": [
        {
          "output_type": "execute_result",
          "data": {
            "text/plain": [
              "66.4"
            ]
          },
          "metadata": {},
          "execution_count": 7
        }
      ]
    },
    {
      "cell_type": "code",
      "source": [
        "correct_percents = []\n",
        "\n",
        "for i in range(1, n_batch + 1):\n",
        "  print(f\"Batch {i}\")\n",
        "  correct_percent = answer_problem(n_section)\n",
        "  correct_percents.append(correct_percent)\n",
        "\n",
        "plot_score(correct_percents)\n",
        "\n",
        "average(correct_percents)"
      ],
      "metadata": {
        "colab": {
          "base_uri": "https://localhost:8080/",
          "height": 1000
        },
        "id": "bSDywcmpU7RW",
        "outputId": "c50e058c-2782-4bc7-ea36-7a6c182692da"
      },
      "execution_count": 5,
      "outputs": [
        {
          "output_type": "stream",
          "name": "stdout",
          "text": [
            "Batch 1\n",
            "Question1 is 1-29\n",
            "a\n",
            "a\n",
            "Question2 is 1-47\n",
            "b\n",
            "b\n",
            "Question3 is 1-44\n",
            "c\n",
            "c\n",
            "100\n",
            "Batch 2\n",
            "Question1 is 3-55\n",
            "d\n",
            "a\n",
            "Question2 is 2-22\n",
            "a\n",
            "d\n",
            "Question3 is 6-52\n",
            "a\n",
            "a\n",
            "33\n",
            "Batch 3\n",
            "Question1 is 6-18\n",
            "a\n",
            "a\n",
            "Question2 is 3-28\n",
            "w\n",
            "w\n",
            "Question3 is 2-64\n",
            "wa\n",
            "wa\n",
            "100\n",
            "Batch 4\n",
            "Question1 is 5-51\n",
            "a\n",
            "a\n",
            "Question2 is 2-44\n",
            "f\n",
            "g\n",
            "Question3 is 5-51\n",
            "d\n",
            "s\n",
            "33\n",
            "Batch 5\n",
            "Question1 is 1-19\n",
            "d\n",
            "\n",
            "Question2 is 5-38\n",
            "d\n",
            "d\n",
            "Question3 is 6-24\n",
            "d\n",
            "d\n",
            "66\n"
          ]
        },
        {
          "output_type": "display_data",
          "data": {
            "text/plain": [
              "<Figure size 432x288 with 1 Axes>"
            ],
            "image/png": "[encoded data removed]"
          },
          "metadata": {
            "needs_background": "light"
          }
        }
      ]
    }
  ]
}